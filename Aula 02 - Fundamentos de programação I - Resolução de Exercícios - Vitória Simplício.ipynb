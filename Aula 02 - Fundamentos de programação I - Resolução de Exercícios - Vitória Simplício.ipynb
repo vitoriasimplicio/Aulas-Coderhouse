{
 "cells": [
  {
   "cell_type": "code",
   "execution_count": 4,
   "metadata": {},
   "outputs": [
    {
     "name": "stdout",
     "output_type": "stream",
     "text": [
      "Seu IMC é 19.77769866698311\n"
     ]
    },
    {
     "ename": "ValueError",
     "evalue": "invalid literal for int() with base 10: '5.5'",
     "output_type": "error",
     "traceback": [
      "\u001b[1;31m---------------------------------------------------------------------------\u001b[0m",
      "\u001b[1;31mValueError\u001b[0m                                Traceback (most recent call last)",
      "\u001b[1;32mc:\\Users\\vitor\\Curso_Python\\Aula 02 - Fundamentos de programação I - Resolução de Exercícios - Vitória Simplício.ipynb Cell 1\u001b[0m line \u001b[0;36m1\n\u001b[0;32m     <a href='vscode-notebook-cell:/c%3A/Users/vitor/Curso_Python/Aula%2002%20-%20Fundamentos%20de%20programa%C3%A7%C3%A3o%20I%20-%20Resolu%C3%A7%C3%A3o%20de%20Exerc%C3%ADcios%20-%20Vit%C3%B3ria%20Simpl%C3%ADcio.ipynb#W1sZmlsZQ%3D%3D?line=15'>16</a>\u001b[0m lista\u001b[39m=\u001b[39m[]\n\u001b[0;32m     <a href='vscode-notebook-cell:/c%3A/Users/vitor/Curso_Python/Aula%2002%20-%20Fundamentos%20de%20programa%C3%A7%C3%A3o%20I%20-%20Resolu%C3%A7%C3%A3o%20de%20Exerc%C3%ADcios%20-%20Vit%C3%B3ria%20Simpl%C3%ADcio.ipynb#W1sZmlsZQ%3D%3D?line=17'>18</a>\u001b[0m \u001b[39mfor\u001b[39;00m repeticao \u001b[39min\u001b[39;00m \u001b[39mrange\u001b[39m(\u001b[39m5\u001b[39m):\n\u001b[1;32m---> <a href='vscode-notebook-cell:/c%3A/Users/vitor/Curso_Python/Aula%2002%20-%20Fundamentos%20de%20programa%C3%A7%C3%A3o%20I%20-%20Resolu%C3%A7%C3%A3o%20de%20Exerc%C3%ADcios%20-%20Vit%C3%B3ria%20Simpl%C3%ADcio.ipynb#W1sZmlsZQ%3D%3D?line=18'>19</a>\u001b[0m     numadd\u001b[39m=\u001b[39m\u001b[39mint\u001b[39;49m(\u001b[39minput\u001b[39;49m(\u001b[39m'\u001b[39;49m\u001b[39mDigite um número inteiro:\u001b[39;49m\u001b[39m'\u001b[39;49m))\n\u001b[0;32m     <a href='vscode-notebook-cell:/c%3A/Users/vitor/Curso_Python/Aula%2002%20-%20Fundamentos%20de%20programa%C3%A7%C3%A3o%20I%20-%20Resolu%C3%A7%C3%A3o%20de%20Exerc%C3%ADcios%20-%20Vit%C3%B3ria%20Simpl%C3%ADcio.ipynb#W1sZmlsZQ%3D%3D?line=19'>20</a>\u001b[0m     lista\u001b[39m.\u001b[39mappend(numadd)\n\u001b[0;32m     <a href='vscode-notebook-cell:/c%3A/Users/vitor/Curso_Python/Aula%2002%20-%20Fundamentos%20de%20programa%C3%A7%C3%A3o%20I%20-%20Resolu%C3%A7%C3%A3o%20de%20Exerc%C3%ADcios%20-%20Vit%C3%B3ria%20Simpl%C3%ADcio.ipynb#W1sZmlsZQ%3D%3D?line=21'>22</a>\u001b[0m \u001b[39mprint\u001b[39m(\u001b[39mf\u001b[39m\u001b[39m'\u001b[39m\u001b[39mSua lista é : \u001b[39m\u001b[39m{\u001b[39;00mlista\u001b[39m}\u001b[39;00m\u001b[39m'\u001b[39m)    \n",
      "\u001b[1;31mValueError\u001b[0m: invalid literal for int() with base 10: '5.5'"
     ]
    }
   ],
   "source": [
    "'''\n",
    "1- Escreva um programa em Python que calcule o IMC (Índice de Massa Corporal) de uma pessoa. \n",
    "O programa deve solicitar ao usuário o peso em kg e a altura em metros, e em seguida, calcular e imprimir o valor do IMC.\n",
    "'''\n",
    "\n",
    "peso=float(input('Qual o seu peso?'))\n",
    "altura=float(input('Qual sua altura?'))\n",
    "imc = (peso /(altura * altura))\n",
    "\n",
    "print(f'Seu IMC é {imc}')\n",
    "\n",
    "'''\n",
    "2-Faça um programa que crie uma lista vazia e permita que o usuário insira 5 números inteiros na lista.\n",
    "'''\n",
    "\n",
    "lista=[]\n",
    "\n",
    "for repeticao in range(5):\n",
    "    numadd=int(input('Digite um número inteiro:'))\n",
    "    lista.append(numadd)\n",
    "\n",
    "print(f'Sua lista é : {lista}')    \n",
    "\n",
    "'''\n",
    "3-Faça um programa que peça ao usuário para digitar uma lista de nomes separados por vírgula e transforme essa lista em uma lista de strings.\n",
    "'''\n",
    "\n",
    "listanome=str(input('Digite uma lista com cinco nomes separado por virgula'))\n",
    "listanome.split(',')\n",
    "\n"
   ]
  }
 ],
 "metadata": {
  "kernelspec": {
   "display_name": "Python 3",
   "language": "python",
   "name": "python3"
  },
  "language_info": {
   "codemirror_mode": {
    "name": "ipython",
    "version": 3
   },
   "file_extension": ".py",
   "mimetype": "text/x-python",
   "name": "python",
   "nbconvert_exporter": "python",
   "pygments_lexer": "ipython3",
   "version": "3.12.0"
  }
 },
 "nbformat": 4,
 "nbformat_minor": 2
}
