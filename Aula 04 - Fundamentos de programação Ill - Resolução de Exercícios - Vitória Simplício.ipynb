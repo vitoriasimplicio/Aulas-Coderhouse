{
 "cells": [
  {
   "cell_type": "code",
   "execution_count": null,
   "metadata": {},
   "outputs": [],
   "source": [
    "\n",
    "def alertadeerro(nivel,base,etapa):\n",
    "    if nivel==1:\n",
    "        nivel=\"Nivel de Alerta Baixo\"\n",
    "    elif nivel==2:\n",
    "        nivel=\"Nivel de Alerta Médio\"\n",
    "    elif nivel==3:\n",
    "        nivel=\"Nivel de Alerta Alto\"\n",
    "    from plyer import notification \n",
    "    notification.notify(\n",
    "         title=(f\"Atenção: {nivel}\"),\n",
    "           message=(f\"Falha no carregamento da base {base} na etapa {etapa}\"),\n",
    "           timeout=10 )\n",
    "\n",
    "\n",
    "alertadeerro(nivel = 1,\n",
    "           base=str(\"CLIENTES\"),\n",
    "           etapa=str(\"Extração\"))\n",
    "\n"
   ]
  }
 ],
 "metadata": {
  "language_info": {
   "name": "python"
  }
 },
 "nbformat": 4,
 "nbformat_minor": 2
}
